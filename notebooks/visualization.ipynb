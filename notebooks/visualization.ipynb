{
 "cells": [
  {
   "cell_type": "code",
   "execution_count": null,
   "id": "e3de0f1d",
   "metadata": {},
   "outputs": [],
   "source": [
    "import pandas as pd\n",
    "import matplotlib.pyplot as plt\n",
    "import matplotlib.image as mpimg\n",
    "\n",
    "# Load the data\n",
    "df = pd.read_csv('../data/processed/image_detections.csv')\n",
    "\n",
    "N = 10\n",
    "df_sample = df.head(N) \n",
    "\n",
    "print(df_sample.head())\n",
    "\n",
    "# Set up the plot\n",
    "num_images = len(df_sample)\n",
    "fig, axs = plt.subplots(num_images, figsize=(10, num_images * 3))\n",
    "\n",
    "if num_images == 1:\n",
    "    axs = [axs]  \n",
    "\n",
    "# Loop through the images and plot them\n",
    "for i, row in df_sample.iterrows():\n",
    "    img_path = row['image_path']\n",
    "    detected_class = row['detected_object_class']\n",
    "    confidence = row['confidence_score']\n",
    "    \n",
    "    # Load the image\n",
    "    img = mpimg.imread(img_path)\n",
    "    \n",
    "    # Display the image\n",
    "    axs[i].imshow(img)\n",
    "    axs[i].axis('off')  # Hide axes\n",
    "    \n",
    "    # Add a title with detected class and confidence score\n",
    "    axs[i].set_title(f'{detected_class} (Confidence: {confidence:.2f})', fontsize=14)\n",
    "\n",
    "# Adjust layout\n",
    "plt.tight_layout()\n",
    "plt.show()\n"
   ]
  }
 ],
 "metadata": {
  "kernelspec": {
   "display_name": "venv",
   "language": "python",
   "name": "python3"
  },
  "language_info": {
   "name": "python",
   "version": "3.12.4"
  }
 },
 "nbformat": 4,
 "nbformat_minor": 5
}
